{
 "cells": [
  {
   "cell_type": "markdown",
   "id": "4c5dbe39-d304-4566-b065-3fdf487297fb",
   "metadata": {},
   "source": [
    "(Content: Coursera, Python Essentials for MLOps, Module 3, Test Failures, presented by Duke Uni)"
   ]
  },
  {
   "cell_type": "markdown",
   "id": "8f422395-516e-42e8-a5d5-383b5deb9224",
   "metadata": {},
   "source": [
    "**Test Failure Output** - Pytest results containing details on which tests failed and why.\n",
    "\n",
    "**PDB (Python Debugger)** - Tool to debug Python code by stepping through execution.\n",
    "\n",
    "**Pytest Fixtures** - Shared test data/state managed by Pytest.\n",
    "\n",
    "**Pytest Plugins** - Extensions that provide added Pytest functionality.\n",
    "\n",
    "**Pytest Options** - Command line flags that control Pytest test runner behavior.\n",
    "\n"
   ]
  },
  {
   "cell_type": "markdown",
   "id": "f0f49de4-cef6-42f3-9294-793b02ba1774",
   "metadata": {},
   "source": [
    "# Testing Failures\n",
    "(content: Coursera, Python Essentials for MLOps, Module 3, Test Failures, presented by Duke Uni)\n",
    "\n",
    "\n",
    "## Test Failure Out\n",
    "Step by step testing\n",
    "\n",
    "1- Open a new Terminal in jupyter notebook, or every where else\n",
    "2- PS D:\\Course\\Python\\Testing-in-Python> pytest test_failure_output.py (How many collected items, an overview, failures explanation, and locations)\n",
    "3- PS D:\\Course\\Python\\Testing-in-Python> pytest -vvv  test_failure_output.py (Increase verbosity and context with -v, -vv, -vvv)\n",
    "\n",
    "\n",
    "# Python Debbuging with PDB\n",
    "It gives the interactive environment for debugging, allowing for investigating the root of error\n",
    "It needs a special flag: --pdb \n",
    "\n",
    "When the interactive env was activated, \n",
    "    Type h is for help. It shows: Documented and Undocumented commands (type help <topic>)\n",
    "    Type l shows where you are at\n",
    "    Type l 10, shows the line number\n",
    "    Type n for going to next error\n",
    "    Type c for continue\n",
    "    Type q for quit\n",
    "\n",
    "\n",
    "1- PS D:\\Course\\Python\\Testing-in-Python> pytest --pdb  test_failure_output.py (Allow to stop at the first failure)\n",
    "2- Note If we use the following codes in utils3.py,  the interactive env will stop for every single tes : * # import pdb; pdb.set_trac*\n",
    "3- pytest -s  test_failure_output.py \n",
    "\n",
    "# Other pytest Runner Options\n",
    "pytest --help (show all options)\n",
    "pytest --collect-only (shows a brief overview of collected items not in details)\n",
    "pytest -x (stop at the first failure)\n",
    "\n",
    "To run test in distributed manner\n",
    "1 - PS D:\\Course\\Python\\Testing-in-Python> pip install pytest-xdist\n",
    "2 - PS D:\\Course\\Python\\Testing-in-Python> pytest -n 4 (set 4 different test runner instances and test in parallel and at the same time)\n",
    "\n",
    "# pytest Fixturese()"
   ]
  },
  {
   "cell_type": "code",
   "execution_count": 1,
   "id": "8af42630-43fc-4ef6-8a4b-2dff234bd6bc",
   "metadata": {},
   "outputs": [],
   "source": [
    "#import pytest"
   ]
  },
  {
   "cell_type": "code",
   "execution_count": 10,
   "id": "50325522-b53c-4f58-8b75-ce2732b92329",
   "metadata": {},
   "outputs": [],
   "source": [
    "# How many collected items, an overview, failures explanation, and locations\n",
    "# Successfully worked in the notebook\n",
    "#!pytest test_failure_output.py"
   ]
  },
  {
   "cell_type": "code",
   "execution_count": 11,
   "id": "45dcddb7-2b0a-45aa-9c4e-9bfa4188a9fe",
   "metadata": {},
   "outputs": [],
   "source": [
    "# Increased verbosity\n",
    "# Successfully worked in the notebook\n",
    "#!pytest -vvv  test_failure_output.py "
   ]
  },
  {
   "cell_type": "code",
   "execution_count": 8,
   "id": "6c993454-d239-46ab-969b-abc97d9542d3",
   "metadata": {},
   "outputs": [],
   "source": [
    "#import pdb"
   ]
  },
  {
   "cell_type": "code",
   "execution_count": 12,
   "id": "73dbc4a0-9213-4997-9cd4-25c9ddc742bf",
   "metadata": {},
   "outputs": [],
   "source": [
    "# Interactive mode \n",
    "# It did not work here, just in the terminal\n",
    "#!pytest --pdb  test_failure_output.py "
   ]
  },
  {
   "cell_type": "code",
   "execution_count": 14,
   "id": "4306efa8-1de1-4d2b-95e0-cb8f8062d291",
   "metadata": {},
   "outputs": [],
   "source": [
    "# It did not work here, just in the terminal\n",
    "#!pytest -s test_failure_output.py"
   ]
  },
  {
   "cell_type": "code",
   "execution_count": 8,
   "id": "7d148740-8aff-4e00-9659-4597452dc202",
   "metadata": {},
   "outputs": [],
   "source": [
    "# Successful both here and at terminal\n",
    "#!pytest --help"
   ]
  },
  {
   "cell_type": "code",
   "execution_count": 9,
   "id": "9173ac97-592d-469f-9a15-99f827bbfbca",
   "metadata": {},
   "outputs": [],
   "source": [
    "# Successful both here and at terminal\n",
    "#!pytest --collect-only"
   ]
  },
  {
   "cell_type": "code",
   "execution_count": 6,
   "id": "b94513ab-b8fb-43c1-943b-9d927ad6235e",
   "metadata": {},
   "outputs": [],
   "source": [
    "# Unsuccessful here, only in terminal worked\n",
    "#!pytest -x"
   ]
  },
  {
   "cell_type": "code",
   "execution_count": 10,
   "id": "08244dd0-d624-4ee4-99a4-6651195c856e",
   "metadata": {},
   "outputs": [],
   "source": [
    "# Successful both here and at terminal\n",
    "#!pytest -n 4"
   ]
  },
  {
   "cell_type": "code",
   "execution_count": null,
   "id": "828a5a91-d80f-4912-a494-10dd02d65c00",
   "metadata": {},
   "outputs": [],
   "source": []
  },
  {
   "cell_type": "code",
   "execution_count": null,
   "id": "8e463a45-9bde-46ea-a698-13b2b65e01c7",
   "metadata": {},
   "outputs": [],
   "source": []
  },
  {
   "cell_type": "code",
   "execution_count": null,
   "id": "39dd767d-2fb6-42ae-823a-d05a23c22995",
   "metadata": {},
   "outputs": [],
   "source": []
  },
  {
   "cell_type": "code",
   "execution_count": null,
   "id": "2532b5bb-20d8-4c05-92c4-05fe4cc75161",
   "metadata": {},
   "outputs": [],
   "source": []
  }
 ],
 "metadata": {
  "kernelspec": {
   "display_name": "Python 3 (ipykernel)",
   "language": "python",
   "name": "python3"
  },
  "language_info": {
   "codemirror_mode": {
    "name": "ipython",
    "version": 3
   },
   "file_extension": ".py",
   "mimetype": "text/x-python",
   "name": "python",
   "nbconvert_exporter": "python",
   "pygments_lexer": "ipython3",
   "version": "3.11.7"
  }
 },
 "nbformat": 4,
 "nbformat_minor": 5
}
