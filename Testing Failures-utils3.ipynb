{
 "cells": [
  {
   "cell_type": "markdown",
   "id": "f0f49de4-cef6-42f3-9294-793b02ba1774",
   "metadata": {},
   "source": [
    "# Testing Failures\n",
    "(content: Coursera, Python Essentials for MLOps, Module 3, Test Failures)\n",
    "\n",
    "Step by step testing\n",
    "\n",
    "\n",
    "\n",
    "1- Open a new Terminal in jupyter notebook, or every where else\n",
    "\n"
   ]
  }
 ],
 "metadata": {
  "kernelspec": {
   "display_name": "Python 3 (ipykernel)",
   "language": "python",
   "name": "python3"
  },
  "language_info": {
   "codemirror_mode": {
    "name": "ipython",
    "version": 3
   },
   "file_extension": ".py",
   "mimetype": "text/x-python",
   "name": "python",
   "nbconvert_exporter": "python",
   "pygments_lexer": "ipython3",
   "version": "3.11.7"
  }
 },
 "nbformat": 4,
 "nbformat_minor": 5
}
